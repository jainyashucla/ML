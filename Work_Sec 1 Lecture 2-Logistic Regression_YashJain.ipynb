{
 "cells": [
  {
   "cell_type": "markdown",
   "id": "07c34ec6",
   "metadata": {},
   "source": [
    "# 1.) Pull in Data and Convert ot Monthly"
   ]
  },
  {
   "cell_type": "code",
   "execution_count": 29,
   "id": "b48f7d57",
   "metadata": {
    "tags": []
   },
   "outputs": [],
   "source": [
    "import yfinance as yf\n",
    "import pandas as pd\n",
    "import numpy as np\n",
    "import matplotlib.pyplot as plt"
   ]
  },
  {
   "cell_type": "code",
   "execution_count": 30,
   "id": "4fa973aa",
   "metadata": {
    "tags": []
   },
   "outputs": [
    {
     "name": "stdout",
     "output_type": "stream",
     "text": [
      "[*********************100%%**********************]  1 of 1 completed\n"
     ]
    }
   ],
   "source": [
    "apple_data = yf.download('AAPL')\n",
    "df = apple_data.resample(\"M\").last()[[\"Adj Close\"]]"
   ]
  },
  {
   "cell_type": "markdown",
   "id": "54bbfd02",
   "metadata": {},
   "source": [
    "# 2.) Create columns. \n",
    "  - Current Stock Price, Difference in stock price, Whether it went up or down over the next month,  option premium"
   ]
  },
  {
   "cell_type": "code",
   "execution_count": 31,
   "id": "1f21f202",
   "metadata": {
    "tags": []
   },
   "outputs": [],
   "source": [
    "#Difference in stockprice \n",
    "df[\"Diff\"]=  df[\"Adj Close\"].diff().shift(-1)\n",
    "\n",
    "#Target up or down \n",
    "df[\"Target\"]= np.sign(df[\"Diff\"])\n",
    "\n",
    "#Option Premium \n",
    "\n",
    "df[\"Premium\"] = .08 * df[\"Adj Close\"]"
   ]
  },
  {
   "cell_type": "markdown",
   "id": "c9987e25",
   "metadata": {},
   "source": [
    "# 3.) Pull in X data, normalize and build a LogReg on column 2"
   ]
  },
  {
   "cell_type": "code",
   "execution_count": 32,
   "id": "132b4471",
   "metadata": {
    "tags": []
   },
   "outputs": [],
   "source": [
    "import numpy as np\n",
    "import pandas as pd\n",
    "from sklearn.model_selection import train_test_split\n",
    "from sklearn.linear_model import LogisticRegression\n",
    "from sklearn import metrics"
   ]
  },
  {
   "cell_type": "code",
   "execution_count": 33,
   "id": "b21f3c33",
   "metadata": {
    "tags": []
   },
   "outputs": [],
   "source": [
    "X = pd.read_csv(\"~/Downloads/Xdata.csv\", index_col=\"Date\", parse_dates=[\"Date\"])"
   ]
  },
  {
   "cell_type": "code",
   "execution_count": 34,
   "id": "7b38602e",
   "metadata": {
    "tags": []
   },
   "outputs": [],
   "source": [
    "y = df.loc[:\"2023-09-30\",\"Target\"].copy()\n",
    "\n",
    "df = df.loc[:\"2023-09-30\",:].copy()"
   ]
  },
  {
   "cell_type": "code",
   "execution_count": 35,
   "id": "f3bc75a2",
   "metadata": {
    "tags": []
   },
   "outputs": [],
   "source": [
    "logreg = LogisticRegression()\n",
    "\n",
    "logreg.fit(X,y)\n",
    "\n",
    "y_pred = logreg.predict(X)\n"
   ]
  },
  {
   "cell_type": "code",
   "execution_count": null,
   "id": "09084eb5",
   "metadata": {},
   "outputs": [],
   "source": []
  },
  {
   "cell_type": "markdown",
   "id": "2c2c792d",
   "metadata": {},
   "source": [
    "# 4.) Add columns, prediction and profits."
   ]
  },
  {
   "cell_type": "code",
   "execution_count": 36,
   "id": "8009466a",
   "metadata": {
    "tags": []
   },
   "outputs": [],
   "source": [
    "df[\"Predictions\"] = y_pred"
   ]
  },
  {
   "cell_type": "code",
   "execution_count": 37,
   "id": "4aae021b",
   "metadata": {
    "tags": []
   },
   "outputs": [
    {
     "name": "stderr",
     "output_type": "stream",
     "text": [
      "/var/folders/kg/nw1yx_m905d_swb006x0kf6r0000gn/T/ipykernel_52654/3872356485.py:2: FutureWarning: Setting an item of incompatible dtype is deprecated and will raise in a future error of pandas. Value '[6.77095473e-03 7.84186423e-03 4.21455026e-03 5.14728606e-03\n",
      " 3.52368176e-03 3.73094290e-03 4.97456789e-03 5.04365563e-03\n",
      " 7.01275527e-03 8.25644672e-03 1.12964594e-02 1.16764367e-02\n",
      " 1.39564276e-02 9.63824451e-03 5.63095987e-03 6.73641086e-03\n",
      " 6.84004068e-03 6.84004068e-03 7.04730034e-03 6.84004068e-03\n",
      " 4.80185330e-03 4.14546371e-03 4.35278684e-03 5.14728606e-03\n",
      " 5.56186914e-03 6.08002424e-03 6.39097631e-03 6.90912783e-03\n",
      " 7.80731857e-03 8.36007714e-03 8.63642514e-03 9.25826848e-03\n",
      " 9.56916034e-03 1.10545921e-02 1.11928296e-02 1.53382897e-02\n",
      " 1.78255415e-02 2.18661404e-02 2.24196649e-02 2.28348899e-02\n",
      " 2.99315524e-02 1.83313966e-02 2.30531359e-02 2.22636938e-02\n",
      " 2.28202486e-02 2.31442952e-02 2.22799540e-02 2.10782814e-02\n",
      " 2.00128174e-02 2.19087720e-02 2.23790550e-02 2.51126742e-02\n",
      " 1.92344809e-02 1.92964447e-02 2.23470521e-02 2.34761429e-02\n",
      " 1.65543342e-02 1.75533020e-02 2.10484385e-02 2.46281242e-02\n",
      " 3.17874527e-02 3.28587627e-02 2.66131663e-02 2.85476017e-02\n",
      " 2.93388987e-02 3.25907278e-02 3.74323916e-02 3.37376738e-02\n",
      " 2.62588191e-02 3.05504036e-02 3.35311794e-02 2.99516225e-02\n",
      " 1.37496507e-02 1.80878389e-02 1.72673249e-02 1.93335009e-02\n",
      " 1.57620800e-02 2.00371695e-02 2.01065731e-02 2.22997451e-02\n",
      " 2.33473825e-02 2.11604691e-02 2.29613781e-02 2.50190639e-02\n",
      " 2.19184351e-02 1.47587156e-02 1.27151954e-02 1.33207107e-02\n",
      " 1.34342337e-02 1.39261568e-02 9.83911932e-03 8.62816095e-03\n",
      " 1.05959964e-02 1.03121936e-02 7.94703186e-03 1.10879242e-02\n",
      " 1.43046296e-02 1.61210394e-02 1.73698366e-02 1.88835931e-02\n",
      " 1.93376863e-02 2.47870469e-02 2.10784721e-02 2.17596602e-02\n",
      " 2.66791916e-02 2.80415154e-02 3.37179875e-02 3.83347964e-02\n",
      " 4.85145426e-02 5.92618942e-02 6.22514915e-02 6.28190899e-02\n",
      " 6.94038200e-02 5.08607817e-02 6.15324593e-02 1.80131984e-02\n",
      " 2.21002293e-02 2.67261243e-02 2.41588616e-02 1.87821400e-02\n",
      " 2.57936740e-02 2.65202403e-02 2.62780809e-02 2.86637187e-02\n",
      " 1.75591087e-02 1.73532212e-02 1.73895741e-02 1.71231318e-02\n",
      " 2.17369509e-02 2.30811000e-02 2.55272913e-02 2.50913262e-02\n",
      " 2.53214073e-02 2.58784437e-02 2.73194981e-02 2.89664364e-02\n",
      " 3.12188220e-02 3.39798188e-02 3.91628027e-02 4.17664146e-02\n",
      " 4.69251156e-02 6.34548569e-02 7.79865408e-02 9.31236649e-02\n",
      " 8.73352051e-02 8.91516972e-02 1.03295794e-01 1.13564892e-01\n",
      " 1.29840317e-01 1.39479656e-01 1.64256115e-01 1.74113445e-01\n",
      " 1.51904249e-01 1.38704596e-01 1.64328671e-01 1.86441174e-01\n",
      " 1.96371040e-01 2.05477524e-01 2.04920559e-01 2.25022659e-01\n",
      " 2.41709785e-01 2.93515091e-01 3.19115047e-01 3.35390511e-01\n",
      " 3.71695366e-01 4.41326370e-01 3.02791233e-01 3.47548752e-01\n",
      " 4.21296883e-01 3.84967690e-01 2.06712704e-01 2.16303692e-01\n",
      " 2.54594498e-01 3.04752979e-01 3.44957237e-01 3.95721016e-01\n",
      " 4.07394905e-01 4.48906898e-01 4.56536102e-01 4.84170380e-01\n",
      " 4.65158234e-01 4.95577736e-01 5.69156151e-01 6.09191055e-01\n",
      " 5.88774147e-01 6.87226181e-01 7.28956223e-01 7.53587341e-01\n",
      " 7.81222076e-01 8.21813431e-01 8.44071198e-01 8.12973480e-01\n",
      " 9.23535080e-01 9.25666428e-01 9.80886688e-01 1.10556763e+00\n",
      " 1.31375839e+00 1.39922867e+00 1.41441406e+00 1.47922501e+00\n",
      " 1.61809036e+00 1.08482498e+00 1.08792130e+00 1.08821648e+00\n",
      " 9.80998993e-01 1.11954033e+00 1.18724777e+00 1.30167633e+00\n",
      " 1.39286224e+00 1.25391914e+00 1.32603333e+00 1.35249191e+00\n",
      " 1.48692474e+00 1.60395905e+00 1.64832764e+00 1.69568680e+00\n",
      " 1.79592209e+00 1.92515686e+00 1.97611389e+00 2.09749481e+00\n",
      " 2.23644028e+00 2.24938156e+00 1.99976730e+00 1.77007111e+00\n",
      " 1.71606613e+00 1.76077209e+00 1.91935242e+00 1.96474823e+00\n",
      " 2.09344818e+00 2.05710541e+00 2.15575424e+00 2.25868408e+00\n",
      " 2.56084473e+00 2.68534515e+00 2.70337463e+00 2.79178497e+00\n",
      " 2.90432037e+00 3.18548126e+00 3.16648315e+00 3.13818665e+00\n",
      " 3.52868164e+00 3.62742554e+00 3.02801147e+00 3.19501801e+00\n",
      " 3.33808044e+00 3.66195923e+00 3.38809265e+00 3.83030365e+00\n",
      " 4.05504974e+00 4.35091217e+00 4.83249054e+00 5.20727051e+00\n",
      " 5.72166504e+00 4.96650818e+00 5.73817322e+00 6.22645935e+00\n",
      " 7.14415344e+00 8.32387817e+00 8.54292419e+00 9.35871643e+00\n",
      " 9.54669189e+00 9.61676208e+00 9.82709839e+00 1.08010547e+01\n",
      " 1.15029346e+01 1.11758118e+01 1.18313525e+01 1.30746118e+01\n",
      " 1.30770154e+01 1.08437292e+01 1.09763367e+01 1.03366223e+01\n",
      " 1.14790369e+01 1.17451550e+01 1.35195581e+01 1.41422449e+01\n",
      " 1.54762854e+01]' has dtype incompatible with int64, please explicitly cast to a compatible dtype first.\n",
      "  df.loc[(df[\"Predictions\"]== 1) & (df[\"Target\"] == 1), \"Profits\"] = df[\"Premium\"]\n"
     ]
    }
   ],
   "source": [
    "df[\"Profits\"] = 0\n",
    "df.loc[(df[\"Predictions\"]== 1) & (df[\"Target\"] == 1), \"Profits\"] = df[\"Premium\"]\n",
    "df.loc[(df[\"Predictions\"]== 1) & (df[\"Target\"] == -1),\"Profits\"] = 100 * df[\"Diff\"] + df[\"Premium\"]\n",
    "\n"
   ]
  },
  {
   "cell_type": "code",
   "execution_count": null,
   "id": "1d41211f",
   "metadata": {},
   "outputs": [],
   "source": []
  },
  {
   "cell_type": "code",
   "execution_count": null,
   "id": "7c8a051f",
   "metadata": {},
   "outputs": [],
   "source": []
  },
  {
   "cell_type": "markdown",
   "id": "e379d80c",
   "metadata": {},
   "source": [
    "# 5.) Plot profits over time"
   ]
  },
  {
   "cell_type": "code",
   "execution_count": 38,
   "id": "bc16f4dc",
   "metadata": {
    "tags": []
   },
   "outputs": [
    {
     "data": {
      "image/png": "[encoded data removed]",
      "text/plain": [
       "<Figure size 640x480 with 1 Axes>"
      ]
     },
     "metadata": {},
     "output_type": "display_data"
    }
   ],
   "source": [
    "plt.plot(np.cumsum(df[\"Profits\"]))\n",
    "\n",
    "plt.show()"
   ]
  },
  {
   "cell_type": "markdown",
   "id": "edf2d5ca-eeb3-430d-a9c9-587afdff0d2a",
   "metadata": {},
   "source": [
    "#Write a short write on how your skills from MQE, help mr lius ventures?\n",
    "\n",
    "Some of the important points that could be help us contribute better would be: \n",
    "1. Quant skills - Technical background helping us understand the models and crypto framework. \n",
    "2. Prior experience in an asset management firm \n",
    "3. Trading and Quant background \n",
    "4. Worked in a different country in the investment space "
   ]
  },
  {
   "cell_type": "code",
   "execution_count": null,
   "id": "99340635",
   "metadata": {},
   "outputs": [],
   "source": []
  },
  {
   "cell_type": "markdown",
   "id": "5c970b3f",
   "metadata": {},
   "source": [
    "# 6.) Create a loop that stores total profits over time"
   ]
  },
  {
   "cell_type": "code",
   "execution_count": null,
   "id": "abab021c",
   "metadata": {},
   "outputs": [],
   "source": []
  },
  {
   "cell_type": "markdown",
   "id": "30f8738c",
   "metadata": {},
   "source": [
    "# 7.) What is the optimal threshold and plot the total profits for this model."
   ]
  },
  {
   "cell_type": "code",
   "execution_count": null,
   "id": "aba0f592",
   "metadata": {},
   "outputs": [],
   "source": []
  }
 ],
 "metadata": {
  "kernelspec": {
   "display_name": "Python 3 (ipykernel)",
   "language": "python",
   "name": "python3"
  },
  "language_info": {
   "codemirror_mode": {
    "name": "ipython",
    "version": 3
   },
   "file_extension": ".py",
   "mimetype": "text/x-python",
   "name": "python",
   "nbconvert_exporter": "python",
   "pygments_lexer": "ipython3",
   "version": "3.11.4"
  }
 },
 "nbformat": 4,
 "nbformat_minor": 5
}
